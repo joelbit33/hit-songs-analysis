{
 "cells": [
  {
   "cell_type": "markdown",
   "id": "d834d69d-9192-4175-a8e0-9477f1552a80",
   "metadata": {},
   "source": [
    "<h1 align=\"center\" style='font-size: 38px;'>\n",
    "How have culture and technology shaped five decades of hit songs?\n",
    "</h1>"
   ]
  },
  {
   "cell_type": "markdown",
   "id": "b7b47e54-4cfe-48f8-b901-7f6f2d3ea906",
   "metadata": {},
   "source": [
    "<table>\n",
    "    <tr>\n",
    "        <td> <img src=\"https://images.aftonbladet-cdn.se/v2/images/1c1ada48-1a7e-430b-a69e-9e88053bde8a?fit=crop&format=auto&h=1322&q=50&w=1900&s=19ad0477d4ef399c9c6cbce5aad6faf15383435f\" alt=\"Abba\" style=\"width: 270px;\"/> </td>\n",
    "        <td> <img src=\"https://www.billboard.com/wp-content/uploads/media/06-U2-timeline-billboard-1548.jpg?w=1024\" alt=\"U2\" style=\"width: 270px;\"/> </td>\n",
    "        <td> <img src=\"https://cdn.britannica.com/02/162002-050-02512608/Tupac-Shakur-1993.jpg\" alt=\"2Pac\" style=\"width: 270px;\"/> </td>\n",
    "        <td> <img src=\"https://www.rollingstone.com/wp-content/uploads/2022/12/britney-spears-2000.jpg?w=831&h=554&crop=1\" alt=\"Britney Spears\" style=\"width: 270px;\"/> </td>\n",
    "        <td> <img src=\"https://djmagmx.com/wp-content/uploads/2018/01/calvinharris.jpg\" alt=\"Calvin Harris\" style=\"width: 270px;\"/> </td>\n",
    "    </tr>\n",
    "</table>\n"
   ]
  },
  {
   "cell_type": "markdown",
   "id": "02472ace-31be-4d24-9f0c-24604e997215",
   "metadata": {},
   "source": [
    "<p style='text-align: center; font-size: 18px; font-style: italic;'> \n",
    "I'm diving into the top hits from 1970 to 2019 to see how music has evolved over time. <br>\n",
    "Using data from Spotify, I'll explore how musical trends have moved with culture and technology. <br>\n",
    "From the 1970s to today's tracks, let's discover what has shaped peoples vinyl stacks, CD collections, and playlists. \n",
    "</p>"
   ]
  },
  {
   "cell_type": "markdown",
   "id": "767bfd2d-1631-45dc-8abc-573a45e30b7b",
   "metadata": {},
   "source": [
    "***"
   ]
  },
  {
   "cell_type": "markdown",
   "id": "37437aba-0979-4134-bfd1-ea431e292f49",
   "metadata": {},
   "source": [
    "# 1. Introduction\n",
    "\n",
    "\n",
    "Music is more than just melodies and rhythms. It's a reflection of society, evolving with cultural shifts and technological advancements. In this analysis, my goal is to dig deeper into the spotify hit lists over the years and look into any major shifts throughout the decades.<br> This would be the historical part of the analysis, after that, I also want to have a deeper look at modern hits and see if it is possible to learn what is needed to create a hit song today."
   ]
  },
  {
   "cell_type": "markdown",
   "id": "e6cce8e6-fffa-4b8f-9b67-c29b6f59f80d",
   "metadata": {},
   "source": [
    "***"
   ]
  },
  {
   "cell_type": "markdown",
   "id": "6839df1c-a163-4f36-b8ed-53cb867c3f51",
   "metadata": {},
   "source": [
    "# 2. Setting up the environment"
   ]
  },
  {
   "cell_type": "markdown",
   "id": "3eb69c83-72e1-410c-84fb-2c55ef6cbea4",
   "metadata": {},
   "source": [
    "I will primarily be using pandas for data manipulation and matplotlib/seaborn for visualisations. I might add some additional libraries later on if needed."
   ]
  },
  {
   "cell_type": "code",
   "execution_count": 4,
   "id": "b0945d9f-2afc-4ba8-959d-5816f08c9649",
   "metadata": {},
   "outputs": [],
   "source": [
    "import pandas as pd\n",
    "import seaborn as sns\n",
    "import matplotlib.pyplot as plt"
   ]
  },
  {
   "cell_type": "code",
   "execution_count": 6,
   "id": "1210f80d-ff07-4a53-b407-ecae230ce181",
   "metadata": {},
   "outputs": [],
   "source": [
    "df = pd.read_csv('../data/top_hits_1970_to_2019_cleaned.csv') # import data"
   ]
  },
  {
   "cell_type": "markdown",
   "id": "8db861fc-72e0-4598-ac65-1d4b17868a06",
   "metadata": {},
   "source": [
    "### 2.1 Data overview"
   ]
  },
  {
   "cell_type": "code",
   "execution_count": 7,
   "id": "a4921715-c6a7-4ed8-b44b-278239a30569",
   "metadata": {},
   "outputs": [
    {
     "name": "stdout",
     "output_type": "stream",
     "text": [
      "<class 'pandas.core.frame.DataFrame'>\n",
      "RangeIndex: 4997 entries, 0 to 4996\n",
      "Data columns (total 15 columns):\n",
      " #   Column            Non-Null Count  Dtype  \n",
      "---  ------            --------------  -----  \n",
      " 0   name              4997 non-null   object \n",
      " 1   artist            4997 non-null   object \n",
      " 2   popularity        4997 non-null   int64  \n",
      " 3   explicit          4997 non-null   bool   \n",
      " 4   energy            4997 non-null   float64\n",
      " 5   tempo             4997 non-null   float64\n",
      " 6   positiveness      4997 non-null   float64\n",
      " 7   danceability      4997 non-null   float64\n",
      " 8   acousticness      4997 non-null   float64\n",
      " 9   loudness          4997 non-null   float64\n",
      " 10  mode              4997 non-null   object \n",
      " 11  duration_minutes  4997 non-null   float64\n",
      " 12  key               4997 non-null   object \n",
      " 13  album_name        4997 non-null   object \n",
      " 14  year              4997 non-null   int64  \n",
      "dtypes: bool(1), float64(7), int64(2), object(5)\n",
      "memory usage: 551.6+ KB\n"
     ]
    }
   ],
   "source": [
    "df.info()"
   ]
  },
  {
   "cell_type": "code",
   "execution_count": 8,
   "id": "ff87e403-87cb-4bbb-ba19-51d57ac8dd03",
   "metadata": {},
   "outputs": [
    {
     "data": {
      "text/html": [
       "<div>\n",
       "<style scoped>\n",
       "    .dataframe tbody tr th:only-of-type {\n",
       "        vertical-align: middle;\n",
       "    }\n",
       "\n",
       "    .dataframe tbody tr th {\n",
       "        vertical-align: top;\n",
       "    }\n",
       "\n",
       "    .dataframe thead th {\n",
       "        text-align: right;\n",
       "    }\n",
       "</style>\n",
       "<table border=\"1\" class=\"dataframe\">\n",
       "  <thead>\n",
       "    <tr style=\"text-align: right;\">\n",
       "      <th></th>\n",
       "      <th>name</th>\n",
       "      <th>artist</th>\n",
       "      <th>popularity</th>\n",
       "      <th>explicit</th>\n",
       "      <th>energy</th>\n",
       "      <th>tempo</th>\n",
       "      <th>positiveness</th>\n",
       "      <th>danceability</th>\n",
       "      <th>acousticness</th>\n",
       "      <th>loudness</th>\n",
       "      <th>mode</th>\n",
       "      <th>duration_minutes</th>\n",
       "      <th>key</th>\n",
       "      <th>album_name</th>\n",
       "      <th>year</th>\n",
       "    </tr>\n",
       "  </thead>\n",
       "  <tbody>\n",
       "    <tr>\n",
       "      <th>0</th>\n",
       "      <td>Let It Be - Remastered 2009</td>\n",
       "      <td>The Beatles</td>\n",
       "      <td>79</td>\n",
       "      <td>False</td>\n",
       "      <td>0.403</td>\n",
       "      <td>143.462</td>\n",
       "      <td>0.410</td>\n",
       "      <td>0.443</td>\n",
       "      <td>0.6310</td>\n",
       "      <td>-8.339</td>\n",
       "      <td>Major</td>\n",
       "      <td>4.1</td>\n",
       "      <td>C</td>\n",
       "      <td>Let It Be (Remastered)</td>\n",
       "      <td>1970</td>\n",
       "    </tr>\n",
       "    <tr>\n",
       "      <th>1</th>\n",
       "      <td>Cecilia</td>\n",
       "      <td>Simon &amp; Garfunkel</td>\n",
       "      <td>76</td>\n",
       "      <td>False</td>\n",
       "      <td>0.876</td>\n",
       "      <td>102.762</td>\n",
       "      <td>0.954</td>\n",
       "      <td>0.755</td>\n",
       "      <td>0.3570</td>\n",
       "      <td>-8.867</td>\n",
       "      <td>Major</td>\n",
       "      <td>2.9</td>\n",
       "      <td>C</td>\n",
       "      <td>Bridge Over Troubled Water</td>\n",
       "      <td>1970</td>\n",
       "    </tr>\n",
       "    <tr>\n",
       "      <th>2</th>\n",
       "      <td>Son of a Preacher Man</td>\n",
       "      <td>Aretha Franklin</td>\n",
       "      <td>38</td>\n",
       "      <td>False</td>\n",
       "      <td>0.473</td>\n",
       "      <td>77.583</td>\n",
       "      <td>0.561</td>\n",
       "      <td>0.474</td>\n",
       "      <td>0.5450</td>\n",
       "      <td>-11.454</td>\n",
       "      <td>Major</td>\n",
       "      <td>3.3</td>\n",
       "      <td>D</td>\n",
       "      <td>The Queen Of Soul</td>\n",
       "      <td>1970</td>\n",
       "    </tr>\n",
       "    <tr>\n",
       "      <th>3</th>\n",
       "      <td>Who'll Stop The Rain</td>\n",
       "      <td>Creedence Clearwater Revival</td>\n",
       "      <td>65</td>\n",
       "      <td>False</td>\n",
       "      <td>0.797</td>\n",
       "      <td>123.566</td>\n",
       "      <td>0.622</td>\n",
       "      <td>0.598</td>\n",
       "      <td>0.0424</td>\n",
       "      <td>-6.793</td>\n",
       "      <td>Major</td>\n",
       "      <td>2.5</td>\n",
       "      <td>G</td>\n",
       "      <td>Cosmo's Factory (Expanded Edition)</td>\n",
       "      <td>1970</td>\n",
       "    </tr>\n",
       "    <tr>\n",
       "      <th>4</th>\n",
       "      <td>I Want You Back</td>\n",
       "      <td>The Jackson 5</td>\n",
       "      <td>80</td>\n",
       "      <td>False</td>\n",
       "      <td>0.538</td>\n",
       "      <td>196.605</td>\n",
       "      <td>0.886</td>\n",
       "      <td>0.469</td>\n",
       "      <td>0.3050</td>\n",
       "      <td>-13.559</td>\n",
       "      <td>Major</td>\n",
       "      <td>2.9</td>\n",
       "      <td>Gsharp/Aflat</td>\n",
       "      <td>Diana Ross Presents The Jackson 5</td>\n",
       "      <td>1970</td>\n",
       "    </tr>\n",
       "  </tbody>\n",
       "</table>\n",
       "</div>"
      ],
      "text/plain": [
       "                          name                        artist  popularity  \\\n",
       "0  Let It Be - Remastered 2009                   The Beatles          79   \n",
       "1                      Cecilia             Simon & Garfunkel          76   \n",
       "2        Son of a Preacher Man               Aretha Franklin          38   \n",
       "3         Who'll Stop The Rain  Creedence Clearwater Revival          65   \n",
       "4              I Want You Back                 The Jackson 5          80   \n",
       "\n",
       "   explicit  energy    tempo  positiveness  danceability  acousticness  \\\n",
       "0     False   0.403  143.462         0.410         0.443        0.6310   \n",
       "1     False   0.876  102.762         0.954         0.755        0.3570   \n",
       "2     False   0.473   77.583         0.561         0.474        0.5450   \n",
       "3     False   0.797  123.566         0.622         0.598        0.0424   \n",
       "4     False   0.538  196.605         0.886         0.469        0.3050   \n",
       "\n",
       "   loudness   mode  duration_minutes           key  \\\n",
       "0    -8.339  Major               4.1             C   \n",
       "1    -8.867  Major               2.9             C   \n",
       "2   -11.454  Major               3.3             D   \n",
       "3    -6.793  Major               2.5             G   \n",
       "4   -13.559  Major               2.9  Gsharp/Aflat   \n",
       "\n",
       "                           album_name  year  \n",
       "0              Let It Be (Remastered)  1970  \n",
       "1          Bridge Over Troubled Water  1970  \n",
       "2                   The Queen Of Soul  1970  \n",
       "3  Cosmo's Factory (Expanded Edition)  1970  \n",
       "4   Diana Ross Presents The Jackson 5  1970  "
      ]
     },
     "execution_count": 8,
     "metadata": {},
     "output_type": "execute_result"
    }
   ],
   "source": [
    "df.head(5)"
   ]
  },
  {
   "cell_type": "markdown",
   "id": "fc679c3a-c7de-46d7-b515-c6329263ef9d",
   "metadata": {},
   "source": [
    "### 2.1 Data dictionairy"
   ]
  },
  {
   "cell_type": "markdown",
   "id": "ed9ea80c-bf9e-4173-a766-c7c277ec4eb5",
   "metadata": {},
   "source": [
    "- **name** - Name of the song\n",
    "- **artist** - Name of the artist\n",
    "- **popularity** - The popularity of a track is a value between 0 and 100, with 100 being the most popular\n",
    "- **explicit** - If the song is explicit (True), or not (False)\n",
    "- **energy** - Measure from 0.0 to 1.0 and represents a perceptual measure of intensity and activity\n",
    "- **tempo** - Bpm of song (Beats per minute)\n",
    "- **positiveness** - A measure from 0.0 to 1.0 describing the musical positiveness conveyed by a track\n",
    "- **danceability** - Describes how suitable a track is for dancing based on a combination of musical elements\n",
    "- **acousticness** - A confidence measure from 0.0 to 1.0 of whether the track is acoustic\n",
    "- **loudness** - The overall loudness of a track in decibels (dB)\n",
    "- **mode** - Indicates the modality (major or minor) of a track\n",
    "- **duration_minutes** - Duration of the track in minutes\n",
    "- **key** - The key the track is in (C, Csharp, etc)\n",
    "- **album_name** - Name of the album\n",
    "- **year** - What year the song was released"
   ]
  },
  {
   "cell_type": "code",
   "execution_count": null,
   "id": "92b255d7-8376-4330-902c-550f39e19d15",
   "metadata": {},
   "outputs": [],
   "source": []
  }
 ],
 "metadata": {
  "kernelspec": {
   "display_name": "Python 3 (ipykernel)",
   "language": "python",
   "name": "python3"
  },
  "language_info": {
   "codemirror_mode": {
    "name": "ipython",
    "version": 3
   },
   "file_extension": ".py",
   "mimetype": "text/x-python",
   "name": "python",
   "nbconvert_exporter": "python",
   "pygments_lexer": "ipython3",
   "version": "3.11.4"
  }
 },
 "nbformat": 4,
 "nbformat_minor": 5
}
